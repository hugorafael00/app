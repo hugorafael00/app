{
 "cells": [
  {
   "cell_type": "markdown",
   "id": "af1d55de",
   "metadata": {},
   "source": [
    "# meu querido notebook"
   ]
  },
  {
   "cell_type": "markdown",
   "id": "f77def70",
   "metadata": {},
   "source": [
    "## meu primeiro codigo python"
   ]
  },
  {
   "cell_type": "code",
   "execution_count": 2,
   "id": "834b313b",
   "metadata": {},
   "outputs": [
    {
     "name": "stdout",
     "output_type": "stream",
     "text": [
      "Aviao\n"
     ]
    }
   ],
   "source": [
    "print(\"Aviao\")"
   ]
  }
 ],
 "metadata": {
  "kernelspec": {
   "display_name": "Python 3",
   "language": "python",
   "name": "python3"
  },
  "language_info": {
   "codemirror_mode": {
    "name": "ipython",
    "version": 3
   },
   "file_extension": ".py",
   "mimetype": "text/x-python",
   "name": "python",
   "nbconvert_exporter": "python",
   "pygments_lexer": "ipython3",
   "version": "3.12.1"
  }
 },
 "nbformat": 4,
 "nbformat_minor": 5
}
